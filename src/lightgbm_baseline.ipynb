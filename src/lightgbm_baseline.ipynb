{
 "cells": [
  {
   "cell_type": "code",
   "execution_count": 3,
   "metadata": {},
   "outputs": [],
   "source": [
    "import numpy as np\n",
    "import pandas as pd\n",
    "import lightgbm as lgb"
   ]
  },
  {
   "cell_type": "code",
   "execution_count": 7,
   "metadata": {},
   "outputs": [],
   "source": [
    "#read data\n",
    "train_df = pd.read_csv('../data/train.csv')\n",
    "meal_df = pd.read_csv('../data/meal_info.csv')\n",
    "fufil_df = pd.read_csv('../data/fulfilment_center_info.csv')\n",
    "test_df = pd.read_csv('../data/test_QoiMO9B.csv')"
   ]
  },
  {
   "cell_type": "code",
   "execution_count": 16,
   "metadata": {},
   "outputs": [],
   "source": [
    "# concat train and test dataframes\n",
    "trn_size, tst_size = train_df.shape[0], test_df.shape[0]\n",
    "df = pd.concat([train_df, test_df], axis=0, sort=False)"
   ]
  },
  {
   "cell_type": "code",
   "execution_count": 17,
   "metadata": {},
   "outputs": [],
   "source": [
    "# join dataframes\n",
    "df = pd.merge(df, meal_df, on='meal_id', how='left')\n",
    "df = pd.merge(df, fufil_df, on='center_id', how='left')"
   ]
  },
  {
   "cell_type": "code",
   "execution_count": 6,
   "metadata": {},
   "outputs": [
    {
     "data": {
      "text/plain": [
       "0    NaN\n",
       "1    0.0\n",
       "2    1.0\n",
       "3    2.0\n",
       "4    3.0\n",
       "5    4.0\n",
       "6    5.0\n",
       "7    6.0\n",
       "8    7.0\n",
       "9    8.0\n",
       "dtype: float64"
      ]
     },
     "execution_count": 6,
     "metadata": {},
     "output_type": "execute_result"
    }
   ],
   "source": [
    "pd.Series(np.arange(10)).shift(1)"
   ]
  },
  {
   "cell_type": "code",
   "execution_count": 13,
   "metadata": {},
   "outputs": [],
   "source": [
    "# category encoding\n",
    "df['category'] = df['category'].astype('category').cat.codes\n",
    "df['cuisine'] = df['cuisine'].astype('category').cat.codes\n",
    "df['city_code'] = df['city_code'].astype('category').cat.codes\n",
    "df['center_type'] = df['center_type'].astype('category').cat.codes"
   ]
  },
  {
   "cell_type": "code",
   "execution_count": 14,
   "metadata": {},
   "outputs": [
    {
     "data": {
      "text/plain": [
       "0         2\n",
       "1         2\n",
       "2         2\n",
       "3         2\n",
       "4         2\n",
       "5         2\n",
       "6         2\n",
       "7         2\n",
       "8         2\n",
       "9         2\n",
       "10        2\n",
       "11        2\n",
       "12        2\n",
       "13        2\n",
       "14        2\n",
       "15        2\n",
       "16        2\n",
       "17        2\n",
       "18        2\n",
       "19        2\n",
       "20        2\n",
       "21        2\n",
       "22        2\n",
       "23        2\n",
       "24        2\n",
       "25        2\n",
       "26        2\n",
       "27        2\n",
       "28        2\n",
       "29        2\n",
       "         ..\n",
       "489091    0\n",
       "489092    0\n",
       "489093    0\n",
       "489094    0\n",
       "489095    0\n",
       "489096    0\n",
       "489097    0\n",
       "489098    0\n",
       "489099    0\n",
       "489100    0\n",
       "489101    0\n",
       "489102    0\n",
       "489103    0\n",
       "489104    0\n",
       "489105    0\n",
       "489106    0\n",
       "489107    0\n",
       "489108    0\n",
       "489109    0\n",
       "489110    0\n",
       "489111    0\n",
       "489112    0\n",
       "489113    0\n",
       "489114    0\n",
       "489115    0\n",
       "489116    0\n",
       "489117    0\n",
       "489118    0\n",
       "489119    0\n",
       "489120    0\n",
       "Name: center_type, Length: 489121, dtype: int8"
      ]
     },
     "execution_count": 14,
     "metadata": {},
     "output_type": "execute_result"
    }
   ],
   "source": [
    "df.center_type"
   ]
  },
  {
   "cell_type": "code",
   "execution_count": 5,
   "metadata": {},
   "outputs": [],
   "source": [
    "# history num_orders feature\n",
    "\n",
    "# get the start week of meal_id\n",
    "meal_start_week = df.groupby('meal_id')['week'].min().reset_index().rename(columns={'week':'start_week'})\n",
    "df = pd.merge(df, meal_start_week, on='meal_id', how='left')"
   ]
  },
  {
   "cell_type": "code",
   "execution_count": 22,
   "metadata": {},
   "outputs": [
    {
     "data": {
      "text/plain": [
       "meal_id  center_id  week\n",
       "1062     10         1        0.072671\n",
       "                    2        0.138368\n",
       "                    3        0.209863\n",
       "                    4        0.310846\n",
       "                    5        0.391330\n",
       "                    6        0.483240\n",
       "                    7        0.610350\n",
       "                    8        0.706881\n",
       "                    9        0.814585\n",
       "                    10       0.938335\n",
       "                    11       1.052844\n",
       "                    12       1.161640\n",
       "                    13       1.250189\n",
       "                    14       1.304629\n",
       "                    15       1.369319\n",
       "                    16       1.425019\n",
       "                    17       1.542972\n",
       "                    18       1.606570\n",
       "                    19       1.716626\n",
       "                    20       1.820885\n",
       "                    21       1.939931\n",
       "                    22       2.049987\n",
       "                    23       2.180459\n",
       "                    24       2.264303\n",
       "                    25       2.345879\n",
       "                    26       2.424263\n",
       "                    27       2.501386\n",
       "                    28       2.567168\n",
       "                    29       2.645468\n",
       "                    30       2.764597\n",
       "                              ...    \n",
       "2956     186        82      81.714820\n",
       "                    83      81.718558\n",
       "                    84      81.722029\n",
       "                    85      81.725768\n",
       "                    87      81.732710\n",
       "                    88      81.739653\n",
       "                    89      81.743658\n",
       "                    90      81.751135\n",
       "                    91      81.758611\n",
       "                    92      81.769826\n",
       "                    93      81.773298\n",
       "                    94      81.784246\n",
       "                    95      81.787717\n",
       "                    96      81.798932\n",
       "                    97      81.809880\n",
       "                    98      81.816822\n",
       "                    99      81.824299\n",
       "                    100     81.834980\n",
       "                    101     81.838451\n",
       "                    103     81.849132\n",
       "                    105     81.863284\n",
       "                    107     81.877971\n",
       "                    108     81.889186\n",
       "                    110     81.903605\n",
       "                    111     81.918291\n",
       "                    112     81.940187\n",
       "                    113     81.950868\n",
       "                    114     81.958077\n",
       "                    115     81.962083\n",
       "                    116     81.994660\n",
       "Name: num_orders, Length: 489121, dtype: float64"
      ]
     },
     "execution_count": 22,
     "metadata": {},
     "output_type": "execute_result"
    }
   ],
   "source": [
    "df.groupby(by=['meal_id', 'center_id', 'week'])['num_orders'].mean().groupby(level=[0]).apply(lambda x: x.cumsum() / x.size)"
   ]
  },
  {
   "cell_type": "code",
   "execution_count": 23,
   "metadata": {},
   "outputs": [],
   "source": [
    "# center wise mean num_orders\n",
    "center_week_orders_mean = df.groupby(['meal_id', 'center_id', 'week'])['num_orders'].mean().reset_index()\n",
    "# meal wise mean num_orders\n",
    "meal_week_orders_mean = df.groupby(['meal_id', 'week'])['num_orders'].mean().reset_index()"
   ]
  },
  {
   "cell_type": "code",
   "execution_count": 42,
   "metadata": {},
   "outputs": [
    {
     "data": {
      "text/plain": [
       "(51, 77)"
      ]
     },
     "execution_count": 42,
     "metadata": {},
     "output_type": "execute_result"
    }
   ],
   "source": [
    "df.meal_id.nunique(), df.center_id.nunique()"
   ]
  },
  {
   "cell_type": "code",
   "execution_count": 67,
   "metadata": {},
   "outputs": [],
   "source": [
    "center_week_orders_mean_pivot = center_week_orders_mean.pivot_table(index=['meal_id', 'center_id'], columns='week', values='num_orders')"
   ]
  },
  {
   "cell_type": "code",
   "execution_count": 79,
   "metadata": {},
   "outputs": [],
   "source": [
    "center_week_orders_mean_pivot.reset_index(level=[0, 1], inplace=True)"
   ]
  },
  {
   "cell_type": "code",
   "execution_count": 88,
   "metadata": {},
   "outputs": [
    {
     "ename": "SyntaxError",
     "evalue": "invalid syntax (<ipython-input-88-345c44f3b688>, line 1)",
     "output_type": "error",
     "traceback": [
      "\u001b[1;36m  File \u001b[1;32m\"<ipython-input-88-345c44f3b688>\"\u001b[1;36m, line \u001b[1;32m1\u001b[0m\n\u001b[1;33m    [-3:1]\u001b[0m\n\u001b[1;37m       ^\u001b[0m\n\u001b[1;31mSyntaxError\u001b[0m\u001b[1;31m:\u001b[0m invalid syntax\n"
     ]
    }
   ],
   "source": [
    "[-3:1]"
   ]
  }
 ],
 "metadata": {
  "kernelspec": {
   "display_name": "Python 3",
   "language": "python",
   "name": "python3"
  },
  "language_info": {
   "codemirror_mode": {
    "name": "ipython",
    "version": 3
   },
   "file_extension": ".py",
   "mimetype": "text/x-python",
   "name": "python",
   "nbconvert_exporter": "python",
   "pygments_lexer": "ipython3",
   "version": "3.6.5"
  }
 },
 "nbformat": 4,
 "nbformat_minor": 2
}
