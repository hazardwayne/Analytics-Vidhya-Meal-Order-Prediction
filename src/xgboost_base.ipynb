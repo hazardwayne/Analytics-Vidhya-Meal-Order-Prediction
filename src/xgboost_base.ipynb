{
 "cells": [
  {
   "cell_type": "code",
   "execution_count": 8,
   "metadata": {},
   "outputs": [
    {
     "name": "stdout",
     "output_type": "stream",
     "text": [
      "[0]\tvalidation_0-rmse:4.24139\tvalidation_1-rmse:4.1704\n",
      "[1]\tvalidation_0-rmse:3.94949\tvalidation_1-rmse:3.88287\n",
      "[2]\tvalidation_0-rmse:3.67848\tvalidation_1-rmse:3.61638\n",
      "[3]\tvalidation_0-rmse:3.42688\tvalidation_1-rmse:3.36871\n",
      "[4]\tvalidation_0-rmse:3.19288\tvalidation_1-rmse:3.14032\n",
      "[5]\tvalidation_0-rmse:2.97561\tvalidation_1-rmse:2.92784\n",
      "[6]\tvalidation_0-rmse:2.77394\tvalidation_1-rmse:2.73069\n",
      "[7]\tvalidation_0-rmse:2.58679\tvalidation_1-rmse:2.54723\n",
      "[8]\tvalidation_0-rmse:2.41316\tvalidation_1-rmse:2.37717\n",
      "[9]\tvalidation_0-rmse:2.25227\tvalidation_1-rmse:2.21905\n",
      "[10]\tvalidation_0-rmse:2.10306\tvalidation_1-rmse:2.07311\n",
      "[11]\tvalidation_0-rmse:1.96474\tvalidation_1-rmse:1.93711\n",
      "[12]\tvalidation_0-rmse:1.83673\tvalidation_1-rmse:1.81107\n",
      "[13]\tvalidation_0-rmse:1.71828\tvalidation_1-rmse:1.69492\n",
      "[14]\tvalidation_0-rmse:1.60863\tvalidation_1-rmse:1.58773\n",
      "[15]\tvalidation_0-rmse:1.50734\tvalidation_1-rmse:1.48928\n",
      "[16]\tvalidation_0-rmse:1.41387\tvalidation_1-rmse:1.3988\n",
      "[17]\tvalidation_0-rmse:1.32778\tvalidation_1-rmse:1.31524\n",
      "[18]\tvalidation_0-rmse:1.24825\tvalidation_1-rmse:1.23774\n",
      "[19]\tvalidation_0-rmse:1.17501\tvalidation_1-rmse:1.1669\n",
      "[20]\tvalidation_0-rmse:1.10776\tvalidation_1-rmse:1.10199\n",
      "[21]\tvalidation_0-rmse:1.04601\tvalidation_1-rmse:1.04232\n",
      "[22]\tvalidation_0-rmse:0.989454\tvalidation_1-rmse:0.987621\n",
      "[23]\tvalidation_0-rmse:0.937708\tvalidation_1-rmse:0.938193\n",
      "[24]\tvalidation_0-rmse:0.890442\tvalidation_1-rmse:0.892822\n",
      "[25]\tvalidation_0-rmse:0.847309\tvalidation_1-rmse:0.851311\n",
      "[26]\tvalidation_0-rmse:0.808169\tvalidation_1-rmse:0.813541\n",
      "[27]\tvalidation_0-rmse:0.772549\tvalidation_1-rmse:0.779075\n",
      "[28]\tvalidation_0-rmse:0.740362\tvalidation_1-rmse:0.748217\n",
      "[29]\tvalidation_0-rmse:0.711302\tvalidation_1-rmse:0.720456\n",
      "[30]\tvalidation_0-rmse:0.684949\tvalidation_1-rmse:0.695162\n",
      "[31]\tvalidation_0-rmse:0.661334\tvalidation_1-rmse:0.672725\n",
      "[32]\tvalidation_0-rmse:0.64009\tvalidation_1-rmse:0.65263\n",
      "[33]\tvalidation_0-rmse:0.621095\tvalidation_1-rmse:0.634815\n",
      "[34]\tvalidation_0-rmse:0.604033\tvalidation_1-rmse:0.618662\n",
      "[35]\tvalidation_0-rmse:0.588846\tvalidation_1-rmse:0.604139\n",
      "[36]\tvalidation_0-rmse:0.57534\tvalidation_1-rmse:0.591418\n",
      "[37]\tvalidation_0-rmse:0.563323\tvalidation_1-rmse:0.58032\n",
      "[38]\tvalidation_0-rmse:0.552627\tvalidation_1-rmse:0.570383\n",
      "[39]\tvalidation_0-rmse:0.543128\tvalidation_1-rmse:0.561762\n",
      "[40]\tvalidation_0-rmse:0.534641\tvalidation_1-rmse:0.553851\n",
      "[41]\tvalidation_0-rmse:0.52713\tvalidation_1-rmse:0.546897\n",
      "[42]\tvalidation_0-rmse:0.520511\tvalidation_1-rmse:0.540627\n",
      "[43]\tvalidation_0-rmse:0.514566\tvalidation_1-rmse:0.535123\n",
      "[44]\tvalidation_0-rmse:0.50935\tvalidation_1-rmse:0.530221\n",
      "[45]\tvalidation_0-rmse:0.504766\tvalidation_1-rmse:0.526065\n",
      "[46]\tvalidation_0-rmse:0.500641\tvalidation_1-rmse:0.522311\n",
      "[47]\tvalidation_0-rmse:0.49703\tvalidation_1-rmse:0.518964\n",
      "[48]\tvalidation_0-rmse:0.493791\tvalidation_1-rmse:0.51607\n",
      "[49]\tvalidation_0-rmse:0.490903\tvalidation_1-rmse:0.513368\n",
      "[50]\tvalidation_0-rmse:0.488365\tvalidation_1-rmse:0.511037\n",
      "[51]\tvalidation_0-rmse:0.486042\tvalidation_1-rmse:0.50893\n",
      "[52]\tvalidation_0-rmse:0.484112\tvalidation_1-rmse:0.507211\n",
      "[53]\tvalidation_0-rmse:0.482242\tvalidation_1-rmse:0.505631\n",
      "[54]\tvalidation_0-rmse:0.480717\tvalidation_1-rmse:0.504251\n",
      "[55]\tvalidation_0-rmse:0.479282\tvalidation_1-rmse:0.502996\n",
      "[56]\tvalidation_0-rmse:0.477924\tvalidation_1-rmse:0.501897\n",
      "[57]\tvalidation_0-rmse:0.476791\tvalidation_1-rmse:0.500874\n",
      "[58]\tvalidation_0-rmse:0.475716\tvalidation_1-rmse:0.500125\n",
      "[59]\tvalidation_0-rmse:0.47478\tvalidation_1-rmse:0.499247\n",
      "[60]\tvalidation_0-rmse:0.473847\tvalidation_1-rmse:0.498408\n",
      "[61]\tvalidation_0-rmse:0.472874\tvalidation_1-rmse:0.497732\n",
      "[62]\tvalidation_0-rmse:0.472164\tvalidation_1-rmse:0.497167\n",
      "[63]\tvalidation_0-rmse:0.471494\tvalidation_1-rmse:0.496645\n",
      "[64]\tvalidation_0-rmse:0.470679\tvalidation_1-rmse:0.496053\n",
      "[65]\tvalidation_0-rmse:0.47006\tvalidation_1-rmse:0.495681\n",
      "[66]\tvalidation_0-rmse:0.469311\tvalidation_1-rmse:0.495358\n",
      "[67]\tvalidation_0-rmse:0.468864\tvalidation_1-rmse:0.495007\n",
      "[68]\tvalidation_0-rmse:0.468355\tvalidation_1-rmse:0.494653\n",
      "[69]\tvalidation_0-rmse:0.467718\tvalidation_1-rmse:0.494368\n",
      "[70]\tvalidation_0-rmse:0.467419\tvalidation_1-rmse:0.494009\n",
      "[71]\tvalidation_0-rmse:0.466983\tvalidation_1-rmse:0.493776\n",
      "[72]\tvalidation_0-rmse:0.466632\tvalidation_1-rmse:0.493583\n",
      "[73]\tvalidation_0-rmse:0.466157\tvalidation_1-rmse:0.493325\n",
      "[74]\tvalidation_0-rmse:0.465762\tvalidation_1-rmse:0.493178\n",
      "[75]\tvalidation_0-rmse:0.465451\tvalidation_1-rmse:0.492963\n",
      "[76]\tvalidation_0-rmse:0.465063\tvalidation_1-rmse:0.492764\n",
      "[77]\tvalidation_0-rmse:0.464769\tvalidation_1-rmse:0.492611\n",
      "[78]\tvalidation_0-rmse:0.464399\tvalidation_1-rmse:0.492531\n",
      "[79]\tvalidation_0-rmse:0.464019\tvalidation_1-rmse:0.492293\n",
      "[80]\tvalidation_0-rmse:0.463659\tvalidation_1-rmse:0.492117\n",
      "[81]\tvalidation_0-rmse:0.463376\tvalidation_1-rmse:0.49194\n",
      "[82]\tvalidation_0-rmse:0.463039\tvalidation_1-rmse:0.491771\n",
      "[83]\tvalidation_0-rmse:0.462722\tvalidation_1-rmse:0.491674\n",
      "[84]\tvalidation_0-rmse:0.462512\tvalidation_1-rmse:0.491503\n",
      "[85]\tvalidation_0-rmse:0.46233\tvalidation_1-rmse:0.491419\n",
      "[86]\tvalidation_0-rmse:0.462091\tvalidation_1-rmse:0.491322\n",
      "[87]\tvalidation_0-rmse:0.461833\tvalidation_1-rmse:0.491205\n",
      "[88]\tvalidation_0-rmse:0.461649\tvalidation_1-rmse:0.491141\n",
      "[89]\tvalidation_0-rmse:0.461551\tvalidation_1-rmse:0.491133\n",
      "[90]\tvalidation_0-rmse:0.461272\tvalidation_1-rmse:0.491041\n",
      "[91]\tvalidation_0-rmse:0.46103\tvalidation_1-rmse:0.490944\n",
      "[92]\tvalidation_0-rmse:0.46073\tvalidation_1-rmse:0.49086\n",
      "[93]\tvalidation_0-rmse:0.460567\tvalidation_1-rmse:0.490829\n",
      "[94]\tvalidation_0-rmse:0.460333\tvalidation_1-rmse:0.490747\n",
      "[95]\tvalidation_0-rmse:0.460171\tvalidation_1-rmse:0.490687\n",
      "[96]\tvalidation_0-rmse:0.459822\tvalidation_1-rmse:0.490571\n",
      "[97]\tvalidation_0-rmse:0.459552\tvalidation_1-rmse:0.490472\n",
      "[98]\tvalidation_0-rmse:0.459375\tvalidation_1-rmse:0.490425\n",
      "[99]\tvalidation_0-rmse:0.459152\tvalidation_1-rmse:0.49034\n",
      "[100]\tvalidation_0-rmse:0.458858\tvalidation_1-rmse:0.490228\n",
      "[101]\tvalidation_0-rmse:0.458761\tvalidation_1-rmse:0.490161\n",
      "[102]\tvalidation_0-rmse:0.458639\tvalidation_1-rmse:0.490137\n",
      "[103]\tvalidation_0-rmse:0.45847\tvalidation_1-rmse:0.490128\n",
      "[104]\tvalidation_0-rmse:0.458357\tvalidation_1-rmse:0.490094\n",
      "[105]\tvalidation_0-rmse:0.458167\tvalidation_1-rmse:0.49001\n",
      "[106]\tvalidation_0-rmse:0.457905\tvalidation_1-rmse:0.489941\n",
      "[107]\tvalidation_0-rmse:0.457612\tvalidation_1-rmse:0.489876\n",
      "[108]\tvalidation_0-rmse:0.457441\tvalidation_1-rmse:0.489832\n",
      "[109]\tvalidation_0-rmse:0.457251\tvalidation_1-rmse:0.489769\n",
      "[110]\tvalidation_0-rmse:0.456924\tvalidation_1-rmse:0.489587\n",
      "[111]\tvalidation_0-rmse:0.456736\tvalidation_1-rmse:0.48951\n",
      "[112]\tvalidation_0-rmse:0.456559\tvalidation_1-rmse:0.489458\n",
      "[113]\tvalidation_0-rmse:0.456388\tvalidation_1-rmse:0.489404\n",
      "[114]\tvalidation_0-rmse:0.456147\tvalidation_1-rmse:0.489291\n",
      "[115]\tvalidation_0-rmse:0.455931\tvalidation_1-rmse:0.48928\n"
     ]
    },
    {
     "ename": "KeyboardInterrupt",
     "evalue": "",
     "output_type": "error",
     "traceback": [
      "\u001b[1;31m---------------------------------------------------------------------------\u001b[0m",
      "\u001b[1;31mKeyboardInterrupt\u001b[0m                         Traceback (most recent call last)",
      "\u001b[1;32m<ipython-input-8-545790a0123e>\u001b[0m in \u001b[0;36m<module>\u001b[1;34m()\u001b[0m\n\u001b[0;32m     26\u001b[0m             \u001b[0meval_set\u001b[0m\u001b[1;33m=\u001b[0m\u001b[1;33m[\u001b[0m\u001b[1;33m(\u001b[0m\u001b[0mX_train\u001b[0m\u001b[1;33m,\u001b[0m \u001b[0my_train\u001b[0m\u001b[1;33m)\u001b[0m\u001b[1;33m,\u001b[0m \u001b[1;33m(\u001b[0m\u001b[0mX_valid\u001b[0m\u001b[1;33m,\u001b[0m \u001b[0my_valid\u001b[0m\u001b[1;33m)\u001b[0m\u001b[1;33m]\u001b[0m\u001b[1;33m,\u001b[0m\u001b[1;33m\u001b[0m\u001b[0m\n\u001b[0;32m     27\u001b[0m             \u001b[0meval_metric\u001b[0m\u001b[1;33m=\u001b[0m\u001b[1;34m'rmse'\u001b[0m\u001b[1;33m,\u001b[0m\u001b[1;33m\u001b[0m\u001b[0m\n\u001b[1;32m---> 28\u001b[1;33m             verbose=True)\n\u001b[0m\u001b[0;32m     29\u001b[0m \u001b[1;33m\u001b[0m\u001b[0m\n\u001b[0;32m     30\u001b[0m \u001b[0mevals_result\u001b[0m \u001b[1;33m=\u001b[0m \u001b[0mxgb_clf\u001b[0m\u001b[1;33m.\u001b[0m\u001b[0mevals_result\u001b[0m\u001b[1;33m(\u001b[0m\u001b[1;33m)\u001b[0m\u001b[1;33m\u001b[0m\u001b[0m\n",
      "\u001b[1;32mE:\\Anaconda3\\lib\\site-packages\\xgboost\\sklearn.py\u001b[0m in \u001b[0;36mfit\u001b[1;34m(self, X, y, sample_weight, eval_set, eval_metric, early_stopping_rounds, verbose, xgb_model, sample_weight_eval_set)\u001b[0m\n\u001b[0;32m    326\u001b[0m                               \u001b[0mearly_stopping_rounds\u001b[0m\u001b[1;33m=\u001b[0m\u001b[0mearly_stopping_rounds\u001b[0m\u001b[1;33m,\u001b[0m\u001b[1;33m\u001b[0m\u001b[0m\n\u001b[0;32m    327\u001b[0m                               \u001b[0mevals_result\u001b[0m\u001b[1;33m=\u001b[0m\u001b[0mevals_result\u001b[0m\u001b[1;33m,\u001b[0m \u001b[0mobj\u001b[0m\u001b[1;33m=\u001b[0m\u001b[0mobj\u001b[0m\u001b[1;33m,\u001b[0m \u001b[0mfeval\u001b[0m\u001b[1;33m=\u001b[0m\u001b[0mfeval\u001b[0m\u001b[1;33m,\u001b[0m\u001b[1;33m\u001b[0m\u001b[0m\n\u001b[1;32m--> 328\u001b[1;33m                               verbose_eval=verbose, xgb_model=xgb_model)\n\u001b[0m\u001b[0;32m    329\u001b[0m \u001b[1;33m\u001b[0m\u001b[0m\n\u001b[0;32m    330\u001b[0m         \u001b[1;32mif\u001b[0m \u001b[0mevals_result\u001b[0m\u001b[1;33m:\u001b[0m\u001b[1;33m\u001b[0m\u001b[0m\n",
      "\u001b[1;32mE:\\Anaconda3\\lib\\site-packages\\xgboost\\training.py\u001b[0m in \u001b[0;36mtrain\u001b[1;34m(params, dtrain, num_boost_round, evals, obj, feval, maximize, early_stopping_rounds, evals_result, verbose_eval, xgb_model, callbacks, learning_rates)\u001b[0m\n\u001b[0;32m    208\u001b[0m                            \u001b[0mevals\u001b[0m\u001b[1;33m=\u001b[0m\u001b[0mevals\u001b[0m\u001b[1;33m,\u001b[0m\u001b[1;33m\u001b[0m\u001b[0m\n\u001b[0;32m    209\u001b[0m                            \u001b[0mobj\u001b[0m\u001b[1;33m=\u001b[0m\u001b[0mobj\u001b[0m\u001b[1;33m,\u001b[0m \u001b[0mfeval\u001b[0m\u001b[1;33m=\u001b[0m\u001b[0mfeval\u001b[0m\u001b[1;33m,\u001b[0m\u001b[1;33m\u001b[0m\u001b[0m\n\u001b[1;32m--> 210\u001b[1;33m                            xgb_model=xgb_model, callbacks=callbacks)\n\u001b[0m\u001b[0;32m    211\u001b[0m \u001b[1;33m\u001b[0m\u001b[0m\n\u001b[0;32m    212\u001b[0m \u001b[1;33m\u001b[0m\u001b[0m\n",
      "\u001b[1;32mE:\\Anaconda3\\lib\\site-packages\\xgboost\\training.py\u001b[0m in \u001b[0;36m_train_internal\u001b[1;34m(params, dtrain, num_boost_round, evals, obj, feval, xgb_model, callbacks)\u001b[0m\n\u001b[0;32m     72\u001b[0m         \u001b[1;31m# Skip the first update if it is a recovery step.\u001b[0m\u001b[1;33m\u001b[0m\u001b[1;33m\u001b[0m\u001b[0m\n\u001b[0;32m     73\u001b[0m         \u001b[1;32mif\u001b[0m \u001b[0mversion\u001b[0m \u001b[1;33m%\u001b[0m \u001b[1;36m2\u001b[0m \u001b[1;33m==\u001b[0m \u001b[1;36m0\u001b[0m\u001b[1;33m:\u001b[0m\u001b[1;33m\u001b[0m\u001b[0m\n\u001b[1;32m---> 74\u001b[1;33m             \u001b[0mbst\u001b[0m\u001b[1;33m.\u001b[0m\u001b[0mupdate\u001b[0m\u001b[1;33m(\u001b[0m\u001b[0mdtrain\u001b[0m\u001b[1;33m,\u001b[0m \u001b[0mi\u001b[0m\u001b[1;33m,\u001b[0m \u001b[0mobj\u001b[0m\u001b[1;33m)\u001b[0m\u001b[1;33m\u001b[0m\u001b[0m\n\u001b[0m\u001b[0;32m     75\u001b[0m             \u001b[0mbst\u001b[0m\u001b[1;33m.\u001b[0m\u001b[0msave_rabit_checkpoint\u001b[0m\u001b[1;33m(\u001b[0m\u001b[1;33m)\u001b[0m\u001b[1;33m\u001b[0m\u001b[0m\n\u001b[0;32m     76\u001b[0m             \u001b[0mversion\u001b[0m \u001b[1;33m+=\u001b[0m \u001b[1;36m1\u001b[0m\u001b[1;33m\u001b[0m\u001b[0m\n",
      "\u001b[1;32mE:\\Anaconda3\\lib\\site-packages\\xgboost\\core.py\u001b[0m in \u001b[0;36mupdate\u001b[1;34m(self, dtrain, iteration, fobj)\u001b[0m\n\u001b[0;32m   1019\u001b[0m         \u001b[1;32mif\u001b[0m \u001b[0mfobj\u001b[0m \u001b[1;32mis\u001b[0m \u001b[1;32mNone\u001b[0m\u001b[1;33m:\u001b[0m\u001b[1;33m\u001b[0m\u001b[0m\n\u001b[0;32m   1020\u001b[0m             _check_call(_LIB.XGBoosterUpdateOneIter(self.handle, ctypes.c_int(iteration),\n\u001b[1;32m-> 1021\u001b[1;33m                                                     dtrain.handle))\n\u001b[0m\u001b[0;32m   1022\u001b[0m         \u001b[1;32melse\u001b[0m\u001b[1;33m:\u001b[0m\u001b[1;33m\u001b[0m\u001b[0m\n\u001b[0;32m   1023\u001b[0m             \u001b[0mpred\u001b[0m \u001b[1;33m=\u001b[0m \u001b[0mself\u001b[0m\u001b[1;33m.\u001b[0m\u001b[0mpredict\u001b[0m\u001b[1;33m(\u001b[0m\u001b[0mdtrain\u001b[0m\u001b[1;33m)\u001b[0m\u001b[1;33m\u001b[0m\u001b[0m\n",
      "\u001b[1;31mKeyboardInterrupt\u001b[0m: "
     ]
    }
   ],
   "source": [
    "import numpy as np\n",
    "import pandas as pd\n",
    "import xgboost as xgb\n",
    "\n",
    "df = pd.read_csv('../data/df_feature.csv')\n",
    "train_da, valid_da, test_da = df.loc[df.week<136, :], df.loc[(df.week>=136)&(df.week<=145), :], df.loc[df.week>145, :]\n",
    "\n",
    "ignorecols = ['id', 'num_orders', 'week']\n",
    "features = [col for col in df.columns.tolist() if col not in ignorecols]\n",
    "\n",
    "X_train, y_train, X_valid, y_valid = train_da[features], train_da.num_orders.map(np.log1p), valid_da[features], valid_da.num_orders.map(np.log1p)\n",
    "X_test = test_da[features]\n",
    "\n",
    "\n",
    "xgb_clf = xgb.XGBRegressor(n_estimators=1000, \n",
    "                           max_depth=9,\n",
    "                           learning_rate=0.07,\n",
    "                           subsample=0.75, \n",
    "                           colsample_bytree=0.75,\n",
    "                           colsample_bylevel=0.75,\n",
    "                           early_stopping_rounds=30,\n",
    "                           reg_lambda=1.0,\n",
    "                           random_state=731)\n",
    "\n",
    "xgb_clf.fit(X_train, y_train,\n",
    "            eval_set=[(X_train, y_train), (X_valid, y_valid)],\n",
    "            eval_metric='rmse',\n",
    "            verbose=True)\n",
    "\n",
    "evals_result = xgb_clf.evals_result()\n",
    "\n",
    "best_iteration = np.asarray(evals_result['validation_1']['rmse']).argmin()\n",
    "\n",
    "train_da_all = df.loc[df.week<146, :]\n",
    "\n",
    "X_train, y_train = train_da_all[features], train_da_all.num_orders.map(np.log1p)\n",
    "\n",
    "best_iteration = 800\n",
    "xgb_clf = xgb.XGBRegressor(n_estimators=best_iteration, \n",
    "                           max_depth=7,\n",
    "                           learning_rate=0.1,\n",
    "                           subsample=0.75, \n",
    "                           colsample_bytree=0.75,\n",
    "                           colsample_bylevel=0.75,\n",
    "                           reg_lambda=1.0,\n",
    "                           random_state=731)\n",
    "\n",
    "xgb_clf.fit(X_train, y_train, verbose=True)\n",
    "\n",
    "predict = np.expm1(xgb_clf.predict(X_test)).astype(int)\n",
    "\n",
    "sub_df = pd.read_csv('../data/sample_submission_hSlSoT6.csv')\n",
    "sub_df['num_orders'] = predict\n",
    "sub_df.to_csv('../sub/xgb.csv', index=None)\n"
   ]
  },
  {
   "cell_type": "code",
   "execution_count": 3,
   "metadata": {},
   "outputs": [],
   "source": [
    "train_da, valid_da, test_da = df.loc[df.week<136, :], df.loc[(df.week>=136)&(df.week<=145), :], df.loc[df.week>145, :]\n",
    "X_test = test_da[features]"
   ]
  },
  {
   "cell_type": "code",
   "execution_count": 4,
   "metadata": {},
   "outputs": [],
   "source": [
    "predict = np.expm1(xgb_clf.predict(X_test)).astype(int)\n",
    "\n",
    "sub_df = pd.read_csv('../data/sample_submission_hSlSoT6.csv')\n",
    "sub_df['num_orders'] = predict\n",
    "sub_df.to_csv('../sub/xgb.csv', index=None)"
   ]
  },
  {
   "cell_type": "code",
   "execution_count": 17,
   "metadata": {},
   "outputs": [
    {
     "ename": "XGBoostError",
     "evalue": "need to call fit or load_model beforehand",
     "output_type": "error",
     "traceback": [
      "\u001b[1;31m---------------------------------------------------------------------------\u001b[0m",
      "\u001b[1;31mXGBoostError\u001b[0m                              Traceback (most recent call last)",
      "\u001b[1;32m<ipython-input-17-d31ca94b9456>\u001b[0m in \u001b[0;36m<module>\u001b[1;34m()\u001b[0m\n\u001b[1;32m----> 1\u001b[1;33m \u001b[0mpredict\u001b[0m \u001b[1;33m=\u001b[0m \u001b[0mnp\u001b[0m\u001b[1;33m.\u001b[0m\u001b[0mexpm1\u001b[0m\u001b[1;33m(\u001b[0m\u001b[0mxgb_clf\u001b[0m\u001b[1;33m.\u001b[0m\u001b[0mpredict\u001b[0m\u001b[1;33m(\u001b[0m\u001b[0mX_test\u001b[0m\u001b[1;33m)\u001b[0m\u001b[1;33m)\u001b[0m\u001b[1;33m.\u001b[0m\u001b[0mastype\u001b[0m\u001b[1;33m(\u001b[0m\u001b[0mint\u001b[0m\u001b[1;33m)\u001b[0m\u001b[1;33m\u001b[0m\u001b[0m\n\u001b[0m\u001b[0;32m      2\u001b[0m \u001b[1;33m\u001b[0m\u001b[0m\n\u001b[0;32m      3\u001b[0m \u001b[0msub_df\u001b[0m \u001b[1;33m=\u001b[0m \u001b[0mpd\u001b[0m\u001b[1;33m.\u001b[0m\u001b[0mread_csv\u001b[0m\u001b[1;33m(\u001b[0m\u001b[1;34m'../data/sample_submission_hSlSoT6.csv'\u001b[0m\u001b[1;33m)\u001b[0m\u001b[1;33m\u001b[0m\u001b[0m\n\u001b[0;32m      4\u001b[0m \u001b[0msub_df\u001b[0m\u001b[1;33m[\u001b[0m\u001b[1;34m'num_orders'\u001b[0m\u001b[1;33m]\u001b[0m \u001b[1;33m=\u001b[0m \u001b[0mpredict\u001b[0m\u001b[1;33m\u001b[0m\u001b[0m\n\u001b[0;32m      5\u001b[0m \u001b[0msub_df\u001b[0m\u001b[1;33m.\u001b[0m\u001b[0mto_csv\u001b[0m\u001b[1;33m(\u001b[0m\u001b[1;34m'../sub/xgb.csv'\u001b[0m\u001b[1;33m,\u001b[0m \u001b[0mindex\u001b[0m\u001b[1;33m=\u001b[0m\u001b[1;32mNone\u001b[0m\u001b[1;33m)\u001b[0m\u001b[1;33m\u001b[0m\u001b[0m\n",
      "\u001b[1;32mE:\\Anaconda3\\lib\\site-packages\\xgboost\\sklearn.py\u001b[0m in \u001b[0;36mpredict\u001b[1;34m(self, data, output_margin, ntree_limit)\u001b[0m\n\u001b[0;32m    380\u001b[0m         \u001b[1;32mif\u001b[0m \u001b[0mntree_limit\u001b[0m \u001b[1;32mis\u001b[0m \u001b[1;32mNone\u001b[0m\u001b[1;33m:\u001b[0m\u001b[1;33m\u001b[0m\u001b[0m\n\u001b[0;32m    381\u001b[0m             \u001b[0mntree_limit\u001b[0m \u001b[1;33m=\u001b[0m \u001b[0mgetattr\u001b[0m\u001b[1;33m(\u001b[0m\u001b[0mself\u001b[0m\u001b[1;33m,\u001b[0m \u001b[1;34m\"best_ntree_limit\"\u001b[0m\u001b[1;33m,\u001b[0m \u001b[1;36m0\u001b[0m\u001b[1;33m)\u001b[0m\u001b[1;33m\u001b[0m\u001b[0m\n\u001b[1;32m--> 382\u001b[1;33m         return self.get_booster().predict(test_dmatrix,\n\u001b[0m\u001b[0;32m    383\u001b[0m                                           \u001b[0moutput_margin\u001b[0m\u001b[1;33m=\u001b[0m\u001b[0moutput_margin\u001b[0m\u001b[1;33m,\u001b[0m\u001b[1;33m\u001b[0m\u001b[0m\n\u001b[0;32m    384\u001b[0m                                           ntree_limit=ntree_limit)\n",
      "\u001b[1;32mE:\\Anaconda3\\lib\\site-packages\\xgboost\\sklearn.py\u001b[0m in \u001b[0;36mget_booster\u001b[1;34m(self)\u001b[0m\n\u001b[0;32m    179\u001b[0m         \"\"\"\n\u001b[0;32m    180\u001b[0m         \u001b[1;32mif\u001b[0m \u001b[0mself\u001b[0m\u001b[1;33m.\u001b[0m\u001b[0m_Booster\u001b[0m \u001b[1;32mis\u001b[0m \u001b[1;32mNone\u001b[0m\u001b[1;33m:\u001b[0m\u001b[1;33m\u001b[0m\u001b[0m\n\u001b[1;32m--> 181\u001b[1;33m             \u001b[1;32mraise\u001b[0m \u001b[0mXGBoostError\u001b[0m\u001b[1;33m(\u001b[0m\u001b[1;34m'need to call fit or load_model beforehand'\u001b[0m\u001b[1;33m)\u001b[0m\u001b[1;33m\u001b[0m\u001b[0m\n\u001b[0m\u001b[0;32m    182\u001b[0m         \u001b[1;32mreturn\u001b[0m \u001b[0mself\u001b[0m\u001b[1;33m.\u001b[0m\u001b[0m_Booster\u001b[0m\u001b[1;33m\u001b[0m\u001b[0m\n\u001b[0;32m    183\u001b[0m \u001b[1;33m\u001b[0m\u001b[0m\n",
      "\u001b[1;31mXGBoostError\u001b[0m: need to call fit or load_model beforehand"
     ]
    }
   ],
   "source": [
    "predict = np.expm1(xgb_clf.predict(X_test)).astype(int)\n",
    "\n",
    "sub_df = pd.read_csv('../data/sample_submission_hSlSoT6.csv')\n",
    "sub_df['num_orders'] = predict\n",
    "sub_df.to_csv('../sub/xgb.csv', index=None)"
   ]
  },
  {
   "cell_type": "code",
   "execution_count": 15,
   "metadata": {},
   "outputs": [
    {
     "data": {
      "text/plain": [
       "count    456548.000000\n",
       "mean        261.872760\n",
       "std         395.922798\n",
       "min          13.000000\n",
       "25%          54.000000\n",
       "50%         136.000000\n",
       "75%         324.000000\n",
       "max       24299.000000\n",
       "Name: num_orders, dtype: float64"
      ]
     },
     "execution_count": 15,
     "metadata": {},
     "output_type": "execute_result"
    }
   ],
   "source": [
    "df.num_orders.describe()"
   ]
  },
  {
   "cell_type": "code",
   "execution_count": 14,
   "metadata": {},
   "outputs": [
    {
     "data": {
      "text/plain": [
       "array([0.02514558, 0.03123346, 0.02991001, 0.0082054 , 0.00502912,\n",
       "       0.00370566, 0.00873478, 0.00794071, 0.01482266, 0.00291159,\n",
       "       0.00794071, 0.0354685 , 0.02302806, 0.02779248, 0.07781895,\n",
       "       0.02276337, 0.02805717, 0.02593965, 0.03308629, 0.00132345,\n",
       "       0.01482266, 0.03599788, 0.01217575, 0.01429328, 0.01932239,\n",
       "       0.01985177, 0.01191106, 0.00158814, 0.0108523 , 0.00926416,\n",
       "       0.03202753, 0.01111699, 0.01694018, 0.00952885, 0.00211752,\n",
       "       0.00582319, 0.01349921, 0.00582319, 0.00079407, 0.01111699,\n",
       "       0.00608788, 0.01005823, 0.        , 0.00052938, 0.        ,\n",
       "       0.00132345, 0.        , 0.00158814, 0.        , 0.00079407,\n",
       "       0.00370566, 0.00423505, 0.        , 0.00211752, 0.00185283,\n",
       "       0.01879301, 0.00079407, 0.02011646, 0.08946533, 0.04949709,\n",
       "       0.03070408, 0.02408682, 0.0219693 , 0.03017469, 0.00132345,\n",
       "       0.00105876], dtype=float32)"
      ]
     },
     "execution_count": 14,
     "metadata": {},
     "output_type": "execute_result"
    }
   ],
   "source": [
    "xgb_clf.feature_importances_"
   ]
  }
 ],
 "metadata": {
  "kernelspec": {
   "display_name": "Python 3",
   "language": "python",
   "name": "python3"
  },
  "language_info": {
   "codemirror_mode": {
    "name": "ipython",
    "version": 3
   },
   "file_extension": ".py",
   "mimetype": "text/x-python",
   "name": "python",
   "nbconvert_exporter": "python",
   "pygments_lexer": "ipython3",
   "version": "3.6.5"
  }
 },
 "nbformat": 4,
 "nbformat_minor": 2
}
